{
 "cells": [
  {
   "cell_type": "code",
   "execution_count": 44,
   "metadata": {},
   "outputs": [],
   "source": [
    "import pandas as pd\n",
    "import csv\n",
    "import matplotlib.pyplot as plt\n",
    "import seaborn as sns\n",
    "import numpy as np\n",
    "\n",
    "from collections import Counter"
   ]
  },
  {
   "cell_type": "code",
   "execution_count": 5,
   "metadata": {},
   "outputs": [
    {
     "data": {
      "text/html": [
       "<div>\n",
       "<style scoped>\n",
       "    .dataframe tbody tr th:only-of-type {\n",
       "        vertical-align: middle;\n",
       "    }\n",
       "\n",
       "    .dataframe tbody tr th {\n",
       "        vertical-align: top;\n",
       "    }\n",
       "\n",
       "    .dataframe thead th {\n",
       "        text-align: right;\n",
       "    }\n",
       "</style>\n",
       "<table border=\"1\" class=\"dataframe\">\n",
       "  <thead>\n",
       "    <tr style=\"text-align: right;\">\n",
       "      <th></th>\n",
       "      <th>0</th>\n",
       "    </tr>\n",
       "  </thead>\n",
       "  <tbody>\n",
       "    <tr>\n",
       "      <th>0</th>\n",
       "      <td>PER49;00:00:00-00:00:05;cintin1;1.0</td>\n",
       "    </tr>\n",
       "    <tr>\n",
       "      <th>1</th>\n",
       "      <td>PER49;00:00:05-00:00:10;cintin1;1.0</td>\n",
       "    </tr>\n",
       "    <tr>\n",
       "      <th>2</th>\n",
       "      <td>PER49;00:00:05-00:00:10;citwoo1;1.0</td>\n",
       "    </tr>\n",
       "    <tr>\n",
       "      <th>3</th>\n",
       "      <td>PER49;00:00:10-00:00:15;butwoo1;1.0</td>\n",
       "    </tr>\n",
       "    <tr>\n",
       "      <th>4</th>\n",
       "      <td>PER49;00:00:10-00:00:15;cintin1;1.0</td>\n",
       "    </tr>\n",
       "  </tbody>\n",
       "</table>\n",
       "</div>"
      ],
      "text/plain": [
       "                                     0\n",
       "0  PER49;00:00:00-00:00:05;cintin1;1.0\n",
       "1  PER49;00:00:05-00:00:10;cintin1;1.0\n",
       "2  PER49;00:00:05-00:00:10;citwoo1;1.0\n",
       "3  PER49;00:00:10-00:00:15;butwoo1;1.0\n",
       "4  PER49;00:00:10-00:00:15;cintin1;1.0"
      ]
     },
     "execution_count": 5,
     "metadata": {},
     "output_type": "execute_result"
    }
   ],
   "source": [
    "file = 'D:/project/BirdCLEF2020_Validation_Audio_and_Ground_Truth/scripts/perfect_run.csv'\n",
    "v_data = pd.read_csv(file, header=None)\n",
    "v_data.head()"
   ]
  },
  {
   "cell_type": "code",
   "execution_count": 15,
   "metadata": {},
   "outputs": [
    {
     "name": "stdout",
     "output_type": "stream",
     "text": [
      "['cintin1', 'cintin1', 'citwoo1', 'butwoo1', 'cintin1', 'cintin1', 'cintin1', 'cintin1', 'cintin1', 'cintin1']\n"
     ]
    }
   ],
   "source": [
    "f = open(file)\n",
    "data = []\n",
    "for line in f:\n",
    "    data_line = line.rstrip().split(';')\n",
    "    data.append(data_line[2])\n",
    "\n",
    "f.close()\n",
    "\n",
    "print(data[:10])"
   ]
  },
  {
   "cell_type": "code",
   "execution_count": 21,
   "metadata": {
    "collapsed": true
   },
   "outputs": [
    {
     "data": {
      "text/plain": [
       "Counter({'cintin1': 24,\n",
       "         'citwoo1': 45,\n",
       "         'butwoo1': 51,\n",
       "         'strwoo2': 20,\n",
       "         'meapar': 79,\n",
       "         'horscr1': 53,\n",
       "         'ruftof1': 1,\n",
       "         'hauthr1': 218,\n",
       "         'spwant2': 57,\n",
       "         'bubwre1': 60,\n",
       "         'gryant1': 1,\n",
       "         'blfant1': 168,\n",
       "         'gramou1': 9,\n",
       "         'pluant1': 17,\n",
       "         'thlwre1': 125,\n",
       "         'goeant1': 1,\n",
       "         'bubgro2': 90,\n",
       "         'spigua1': 13,\n",
       "         'rinant2': 1,\n",
       "         'amabaw1': 26,\n",
       "         'bucmot4': 66,\n",
       "         'whnrob1': 3,\n",
       "         'elewoo1': 11,\n",
       "         'wibpip1': 13,\n",
       "         'sobcac1': 42,\n",
       "         'littin1': 27,\n",
       "         'scrpih1': 18,\n",
       "         'scbwoo5': 2,\n",
       "         'bartin2': 11,\n",
       "         'letbar1': 7,\n",
       "         'crfgle1': 9,\n",
       "         'ducgre1': 168,\n",
       "         'grfdov1': 15,\n",
       "         'lobwoo1': 40,\n",
       "         'blttro1': 113,\n",
       "         'renwoo1': 21,\n",
       "         'dutant2': 63,\n",
       "         'rudpig': 2,\n",
       "         'putfru1': 3,\n",
       "         'blacar1': 2,\n",
       "         'plwant1': 1,\n",
       "         'partan1': 59,\n",
       "         'plupig2': 132,\n",
       "         'gilbar1': 2,\n",
       "         'undtin1': 1,\n",
       "         'lowant1': 25,\n",
       "         'rinwoo1': 2,\n",
       "         'rebmac2': 8,\n",
       "         'chwfog1': 7,\n",
       "         'gretin1': 2,\n",
       "         'gocspa1': 1,\n",
       "         'blcbec1': 9,\n",
       "         'gryant2': 15,\n",
       "         'ruboro1': 7,\n",
       "         'pirfly1': 5,\n",
       "         'whbtot1': 15,\n",
       "         'yercac1': 13,\n",
       "         'butsal1': 14,\n",
       "         'wespuf1': 2,\n",
       "         'cangoo': 19,\n",
       "         'sposan': 1,\n",
       "         'grycat': 3,\n",
       "         'cedwax': 2,\n",
       "         'dowwoo': 3,\n",
       "         'blujay': 10,\n",
       "         'comgra': 9,\n",
       "         'amegfi': 5,\n",
       "         'purfin': 5,\n",
       "         'rewbla': 11,\n",
       "         'norcar': 4,\n",
       "         'bkcchi': 5,\n",
       "         'haiwoo': 2,\n",
       "         'swaspa': 5,\n",
       "         'eawpew': 57,\n",
       "         'veery': 24,\n",
       "         'rebwoo': 1})"
      ]
     },
     "execution_count": 21,
     "metadata": {},
     "output_type": "execute_result"
    }
   ],
   "source": [
    "# easy way to count\n",
    "Counter(data)"
   ]
  },
  {
   "cell_type": "code",
   "execution_count": 22,
   "metadata": {
    "collapsed": true
   },
   "outputs": [
    {
     "data": {
      "text/plain": [
       "{'cintin1': 24,\n",
       " 'citwoo1': 45,\n",
       " 'butwoo1': 51,\n",
       " 'strwoo2': 20,\n",
       " 'meapar': 79,\n",
       " 'horscr1': 53,\n",
       " 'ruftof1': 1,\n",
       " 'hauthr1': 218,\n",
       " 'spwant2': 57,\n",
       " 'bubwre1': 60,\n",
       " 'gryant1': 1,\n",
       " 'blfant1': 168,\n",
       " 'gramou1': 9,\n",
       " 'pluant1': 17,\n",
       " 'thlwre1': 125,\n",
       " 'goeant1': 1,\n",
       " 'bubgro2': 90,\n",
       " 'spigua1': 13,\n",
       " 'rinant2': 1,\n",
       " 'amabaw1': 26,\n",
       " 'bucmot4': 66,\n",
       " 'whnrob1': 3,\n",
       " 'elewoo1': 11,\n",
       " 'wibpip1': 13,\n",
       " 'sobcac1': 42,\n",
       " 'littin1': 27,\n",
       " 'scrpih1': 18,\n",
       " 'scbwoo5': 2,\n",
       " 'bartin2': 11,\n",
       " 'letbar1': 7,\n",
       " 'crfgle1': 9,\n",
       " 'ducgre1': 168,\n",
       " 'grfdov1': 15,\n",
       " 'lobwoo1': 40,\n",
       " 'blttro1': 113,\n",
       " 'renwoo1': 21,\n",
       " 'dutant2': 63,\n",
       " 'rudpig': 2,\n",
       " 'putfru1': 3,\n",
       " 'blacar1': 2,\n",
       " 'plwant1': 1,\n",
       " 'partan1': 59,\n",
       " 'plupig2': 132,\n",
       " 'gilbar1': 2,\n",
       " 'undtin1': 1,\n",
       " 'lowant1': 25,\n",
       " 'rinwoo1': 2,\n",
       " 'rebmac2': 8,\n",
       " 'chwfog1': 7,\n",
       " 'gretin1': 2,\n",
       " 'gocspa1': 1,\n",
       " 'blcbec1': 9,\n",
       " 'gryant2': 15,\n",
       " 'ruboro1': 7,\n",
       " 'pirfly1': 5,\n",
       " 'whbtot1': 15,\n",
       " 'yercac1': 13,\n",
       " 'butsal1': 14,\n",
       " 'wespuf1': 2,\n",
       " 'cangoo': 19,\n",
       " 'sposan': 1,\n",
       " 'grycat': 3,\n",
       " 'cedwax': 2,\n",
       " 'dowwoo': 3,\n",
       " 'blujay': 10,\n",
       " 'comgra': 9,\n",
       " 'amegfi': 5,\n",
       " 'purfin': 5,\n",
       " 'rewbla': 11,\n",
       " 'norcar': 4,\n",
       " 'bkcchi': 5,\n",
       " 'haiwoo': 2,\n",
       " 'swaspa': 5,\n",
       " 'eawpew': 57,\n",
       " 'veery': 24,\n",
       " 'rebwoo': 1}"
      ]
     },
     "execution_count": 22,
     "metadata": {},
     "output_type": "execute_result"
    }
   ],
   "source": [
    "# Old school way\n",
    "stats = {}\n",
    "for i in data:\n",
    "    if i in stats:\n",
    "        stats[i] += 1\n",
    "    else:\n",
    "        stats[i] = 1\n",
    "stats"
   ]
  },
  {
   "cell_type": "code",
   "execution_count": 32,
   "metadata": {
    "collapsed": true
   },
   "outputs": [
    {
     "data": {
      "text/plain": [
       "{'hauthr1': 218,\n",
       " 'blfant1': 168,\n",
       " 'ducgre1': 168,\n",
       " 'plupig2': 132,\n",
       " 'thlwre1': 125,\n",
       " 'blttro1': 113,\n",
       " 'bubgro2': 90,\n",
       " 'meapar': 79,\n",
       " 'bucmot4': 66,\n",
       " 'dutant2': 63,\n",
       " 'bubwre1': 60,\n",
       " 'partan1': 59,\n",
       " 'spwant2': 57,\n",
       " 'eawpew': 57,\n",
       " 'horscr1': 53,\n",
       " 'butwoo1': 51,\n",
       " 'citwoo1': 45,\n",
       " 'sobcac1': 42,\n",
       " 'lobwoo1': 40,\n",
       " 'littin1': 27,\n",
       " 'amabaw1': 26,\n",
       " 'lowant1': 25,\n",
       " 'cintin1': 24,\n",
       " 'veery': 24,\n",
       " 'renwoo1': 21,\n",
       " 'strwoo2': 20,\n",
       " 'cangoo': 19,\n",
       " 'scrpih1': 18,\n",
       " 'pluant1': 17,\n",
       " 'grfdov1': 15,\n",
       " 'gryant2': 15,\n",
       " 'whbtot1': 15,\n",
       " 'butsal1': 14,\n",
       " 'spigua1': 13,\n",
       " 'wibpip1': 13,\n",
       " 'yercac1': 13,\n",
       " 'elewoo1': 11,\n",
       " 'bartin2': 11,\n",
       " 'rewbla': 11,\n",
       " 'blujay': 10,\n",
       " 'gramou1': 9,\n",
       " 'crfgle1': 9,\n",
       " 'blcbec1': 9,\n",
       " 'comgra': 9,\n",
       " 'rebmac2': 8,\n",
       " 'letbar1': 7,\n",
       " 'chwfog1': 7,\n",
       " 'ruboro1': 7,\n",
       " 'pirfly1': 5,\n",
       " 'amegfi': 5,\n",
       " 'purfin': 5,\n",
       " 'bkcchi': 5,\n",
       " 'swaspa': 5,\n",
       " 'norcar': 4,\n",
       " 'whnrob1': 3,\n",
       " 'putfru1': 3,\n",
       " 'grycat': 3,\n",
       " 'dowwoo': 3,\n",
       " 'scbwoo5': 2,\n",
       " 'rudpig': 2,\n",
       " 'blacar1': 2,\n",
       " 'gilbar1': 2,\n",
       " 'rinwoo1': 2,\n",
       " 'gretin1': 2,\n",
       " 'wespuf1': 2,\n",
       " 'cedwax': 2,\n",
       " 'haiwoo': 2,\n",
       " 'ruftof1': 1,\n",
       " 'gryant1': 1,\n",
       " 'goeant1': 1,\n",
       " 'rinant2': 1,\n",
       " 'plwant1': 1,\n",
       " 'undtin1': 1,\n",
       " 'gocspa1': 1,\n",
       " 'sposan': 1,\n",
       " 'rebwoo': 1}"
      ]
     },
     "execution_count": 32,
     "metadata": {},
     "output_type": "execute_result"
    }
   ],
   "source": [
    "# Sorted dictionary by values\n",
    "# Pytho 3.6+\n",
    "stats = {k: v for k, v in sorted(stats.items(), \n",
    "                                 key = lambda item: item[1],\n",
    "                                 reverse=True)}\n",
    "\n",
    "stats"
   ]
  },
  {
   "cell_type": "code",
   "execution_count": 34,
   "metadata": {
    "scrolled": false
   },
   "outputs": [
    {
     "data": {
      "image/png": "[encoded data removed]",
      "text/plain": [
       "<Figure size 1800x504 with 1 Axes>"
      ]
     },
     "metadata": {
      "needs_background": "light"
     },
     "output_type": "display_data"
    }
   ],
   "source": [
    "# Plot to see and decide how many species will I use to training\n",
    "fig = plt.figure(figsize = (25, 7))\n",
    "sns.lineplot(x = list(stats.keys()), \n",
    "             y = list(stats.values())).\\\n",
    "             set_title('How many bird appear in Validation data')\n",
    "plt.xticks(rotation = 90)\n",
    "plt.margins(x = 0)\n",
    "plt.show()"
   ]
  },
  {
   "cell_type": "code",
   "execution_count": 48,
   "metadata": {
    "collapsed": true
   },
   "outputs": [
    {
     "data": {
      "text/plain": [
       "[218,\n",
       " 168,\n",
       " 168,\n",
       " 132,\n",
       " 125,\n",
       " 113,\n",
       " 90,\n",
       " 79,\n",
       " 66,\n",
       " 63,\n",
       " 60,\n",
       " 59,\n",
       " 57,\n",
       " 57,\n",
       " 53,\n",
       " 51,\n",
       " 45,\n",
       " 42,\n",
       " 40,\n",
       " 27,\n",
       " 26,\n",
       " 25,\n",
       " 24,\n",
       " 24,\n",
       " 21,\n",
       " 20,\n",
       " 19,\n",
       " 18,\n",
       " 17,\n",
       " 15,\n",
       " 15,\n",
       " 15,\n",
       " 14,\n",
       " 13,\n",
       " 13,\n",
       " 13,\n",
       " 11,\n",
       " 11,\n",
       " 11,\n",
       " 10,\n",
       " 9,\n",
       " 9,\n",
       " 9,\n",
       " 9,\n",
       " 8,\n",
       " 7,\n",
       " 7,\n",
       " 7,\n",
       " 5,\n",
       " 5,\n",
       " 5,\n",
       " 5,\n",
       " 5,\n",
       " 4,\n",
       " 3,\n",
       " 3,\n",
       " 3,\n",
       " 3,\n",
       " 2,\n",
       " 2,\n",
       " 2,\n",
       " 2,\n",
       " 2,\n",
       " 2,\n",
       " 2,\n",
       " 2,\n",
       " 2,\n",
       " 1,\n",
       " 1,\n",
       " 1,\n",
       " 1,\n",
       " 1,\n",
       " 1,\n",
       " 1,\n",
       " 1,\n",
       " 1]"
      ]
     },
     "execution_count": 48,
     "metadata": {},
     "output_type": "execute_result"
    }
   ],
   "source": [
    "list(stats.values())"
   ]
  },
  {
   "cell_type": "code",
   "execution_count": 69,
   "metadata": {},
   "outputs": [
    {
     "data": {
      "text/plain": [
       "[('hauthr1', 218),\n",
       " ('blfant1', 168),\n",
       " ('ducgre1', 168),\n",
       " ('plupig2', 132),\n",
       " ('thlwre1', 125),\n",
       " ('blttro1', 113)]"
      ]
     },
     "execution_count": 69,
     "metadata": {},
     "output_type": "execute_result"
    }
   ],
   "source": [
    "# Right now I need to sort or just use the most appear I guess let be 6\n",
    "imbalanced = sorted(stats.items(), key = lambda x: x[1], reverse=True)[:6]\n",
    "imbalanced # Now this all above 100"
   ]
  },
  {
   "cell_type": "markdown",
   "metadata": {},
   "source": [
    "น่าจะใช้ 6 ตัวนี้มาลอง train ละนำไปใช้ดูต่อ"
   ]
  },
  {
   "cell_type": "code",
   "execution_count": null,
   "metadata": {},
   "outputs": [],
   "source": []
  }
 ],
 "metadata": {
  "kernelspec": {
   "display_name": "Python 3",
   "language": "python",
   "name": "python3"
  },
  "language_info": {
   "codemirror_mode": {
    "name": "ipython",
    "version": 3
   },
   "file_extension": ".py",
   "mimetype": "text/x-python",
   "name": "python",
   "nbconvert_exporter": "python",
   "pygments_lexer": "ipython3",
   "version": "3.7.6"
  }
 },
 "nbformat": 4,
 "nbformat_minor": 4
}
