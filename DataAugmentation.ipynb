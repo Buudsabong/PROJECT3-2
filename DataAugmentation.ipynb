{
 "cells": [
  {
   "cell_type": "code",
   "execution_count": 1,
   "metadata": {},
   "outputs": [],
   "source": [
    "import numpy as np\n",
    "import os\n",
    "import librosa\n",
    "from pydub import AudioSegment\n",
    "from pydub.playback import play\n",
    "\n",
    "import seaborn as sns\n",
    "import matplotlib.pyplot as plt\n",
    "import pandas as pd\n",
    "import librosa.display\n",
    "import plotly.express as px\n",
    "from pydub import AudioSegment\n",
    "import sys\n",
    "import cv2"
   ]
  },
  {
   "cell_type": "code",
   "execution_count": 2,
   "metadata": {},
   "outputs": [],
   "source": [
    "name_bird = []\n",
    "for root, dirs, files in os.walk('Traindata/Audio/'):\n",
    "    if root == 'Traindata/Audio/':\n",
    "        name_bird = dirs\n",
    "path_name = []\n",
    "path_name_list = []\n",
    "for i in range(len(name_bird)):\n",
    "    for root, dirs, files in os.walk(\"Traindata/Audio/\"+name_bird[i]):\n",
    "        for file in files:\n",
    "            if file.endswith(\".mp3\"):\n",
    "                path_name.append(os.path.join(root, file))\n",
    "    path_name_list.append(path_name)\n",
    "    path_name = []"
   ]
  },
  {
   "cell_type": "code",
   "execution_count": 23,
   "metadata": {},
   "outputs": [],
   "source": [
    "def splitSignal(sig, rate, seconds, overlap, minlen):\n",
    "\n",
    "    # Split signal with overlap\n",
    "    sig_splits = []\n",
    "    for i in range(0, len(sig), int((seconds - overlap) * rate)):\n",
    "        split = sig[i:i + int(seconds * rate)]\n",
    "\n",
    "        # End of signal?\n",
    "        if len(split) < int(minlen * rate):\n",
    "            break\n",
    "        \n",
    "        # Signal chunk too short?\n",
    "        if len(split) < int(rate * seconds):\n",
    "            split = np.hstack((split, np.zeros((int(rate * seconds) - len(split),))))\n",
    "        \n",
    "        sig_splits.append(split)\n",
    "\n",
    "    return sig_splits"
   ]
  },
  {
   "cell_type": "code",
   "execution_count": 103,
   "metadata": {
    "scrolled": false
   },
   "outputs": [
    {
     "name": "stderr",
     "output_type": "stream",
     "text": [
      "/Users/givee/anaconda3/lib/python3.7/site-packages/librosa/core/audio.py:161: UserWarning:\n",
      "\n",
      "PySoundFile failed. Trying audioread instead.\n",
      "\n"
     ]
    }
   ],
   "source": [
    "sig, rate = librosa.load(path_name_list[0][0])"
   ]
  },
  {
   "cell_type": "code",
   "execution_count": 72,
   "metadata": {
    "scrolled": true
   },
   "outputs": [
    {
     "data": {
      "text/plain": [
       "'Traindata/Audio/Patagioenas plumbea_Plumbeous Pigeon/XC227315.mp3'"
      ]
     },
     "execution_count": 72,
     "metadata": {},
     "output_type": "execute_result"
    }
   ],
   "source": [
    "path_name_list[0][0]"
   ]
  },
  {
   "cell_type": "code",
   "execution_count": 104,
   "metadata": {},
   "outputs": [],
   "source": [
    "sig_splits = splitSignal(sig, rate, 5, 1, 1)"
   ]
  },
  {
   "cell_type": "code",
   "execution_count": 105,
   "metadata": {},
   "outputs": [
    {
     "data": {
      "text/plain": [
       "[array([-0.00696294, -0.00989491, -0.0065751 , ...,  0.01139491,\n",
       "         0.00338931,  0.00159741], dtype=float32),\n",
       " array([-0.00387561,  0.00229401,  0.00193263, ..., -0.01871327,\n",
       "        -0.01444266, -0.00971275], dtype=float32),\n",
       " array([-0.00506774, -0.01119469, -0.00583129, ...,  0.00990618,\n",
       "         0.00543443,  0.00084763], dtype=float32),\n",
       " array([ 0.0015109 , -0.00709668, -0.00429201, ...,  0.00324483,\n",
       "        -0.00215083, -0.01279025], dtype=float32),\n",
       " array([-0.00118924, -0.01006333, -0.00995998, ..., -0.00752547,\n",
       "        -0.00301993,  0.00126465], dtype=float32),\n",
       " array([-0.01054199, -0.01313993, -0.01314385, ..., -0.02408776,\n",
       "        -0.02185885, -0.01791646], dtype=float32),\n",
       " array([-0.0128127 , -0.01008504, -0.01047143, ..., -0.00466011,\n",
       "        -0.0078342 , -0.0032389 ], dtype=float32),\n",
       " array([ 0.00030933, -0.00124392, -0.01063262, ...,  0.        ,\n",
       "         0.        ,  0.        ])]"
      ]
     },
     "execution_count": 105,
     "metadata": {},
     "output_type": "execute_result"
    }
   ],
   "source": [
    "sig_splits"
   ]
  },
  {
   "cell_type": "code",
   "execution_count": 106,
   "metadata": {},
   "outputs": [],
   "source": [
    "def randomposit(sig_splits):\n",
    "    list_count = []\n",
    "    sig_splits_new = []\n",
    "    count = len(sig_splits)\n",
    "    for i in range(count):\n",
    "        index = np.random.randint(len(sig_splits))\n",
    "        sig_splits_new.append(sig_splits[index])\n",
    "        list_count.append(index)\n",
    "        sig_splits.pop(index)\n",
    "    sig_splits = splitSignal(sig, rate, 5, 1, 1)\n",
    "    return sig_splits_new, sig_splits"
   ]
  },
  {
   "cell_type": "code",
   "execution_count": 107,
   "metadata": {
    "scrolled": false
   },
   "outputs": [
    {
     "name": "stdout",
     "output_type": "stream",
     "text": [
      "8\n",
      "8\n",
      "8\n",
      "8\n",
      "8\n",
      "8\n",
      "8\n",
      "8\n"
     ]
    }
   ],
   "source": [
    "sig_splits_new, sig_splits = randomposit(sig_splits)"
   ]
  },
  {
   "cell_type": "code",
   "execution_count": 108,
   "metadata": {
    "scrolled": false
   },
   "outputs": [
    {
     "data": {
      "text/plain": [
       "[array([ 0.0015109 , -0.00709668, -0.00429201, ...,  0.00324483,\n",
       "        -0.00215083, -0.01279025], dtype=float32),\n",
       " array([-0.00387561,  0.00229401,  0.00193263, ..., -0.01871327,\n",
       "        -0.01444266, -0.00971275], dtype=float32),\n",
       " array([-0.0128127 , -0.01008504, -0.01047143, ..., -0.00466011,\n",
       "        -0.0078342 , -0.0032389 ], dtype=float32),\n",
       " array([-0.00506774, -0.01119469, -0.00583129, ...,  0.00990618,\n",
       "         0.00543443,  0.00084763], dtype=float32),\n",
       " array([-0.01054199, -0.01313993, -0.01314385, ..., -0.02408776,\n",
       "        -0.02185885, -0.01791646], dtype=float32),\n",
       " array([-0.00696294, -0.00989491, -0.0065751 , ...,  0.01139491,\n",
       "         0.00338931,  0.00159741], dtype=float32),\n",
       " array([-0.00118924, -0.01006333, -0.00995998, ..., -0.00752547,\n",
       "        -0.00301993,  0.00126465], dtype=float32),\n",
       " array([ 0.00030933, -0.00124392, -0.01063262, ...,  0.        ,\n",
       "         0.        ,  0.        ])]"
      ]
     },
     "execution_count": 108,
     "metadata": {},
     "output_type": "execute_result"
    }
   ],
   "source": [
    "sig_splits_new"
   ]
  },
  {
   "cell_type": "code",
   "execution_count": 109,
   "metadata": {},
   "outputs": [
    {
     "data": {
      "text/plain": [
       "[array([-0.00696294, -0.00989491, -0.0065751 , ...,  0.01139491,\n",
       "         0.00338931,  0.00159741], dtype=float32),\n",
       " array([-0.00387561,  0.00229401,  0.00193263, ..., -0.01871327,\n",
       "        -0.01444266, -0.00971275], dtype=float32),\n",
       " array([-0.00506774, -0.01119469, -0.00583129, ...,  0.00990618,\n",
       "         0.00543443,  0.00084763], dtype=float32),\n",
       " array([ 0.0015109 , -0.00709668, -0.00429201, ...,  0.00324483,\n",
       "        -0.00215083, -0.01279025], dtype=float32),\n",
       " array([-0.00118924, -0.01006333, -0.00995998, ..., -0.00752547,\n",
       "        -0.00301993,  0.00126465], dtype=float32),\n",
       " array([-0.01054199, -0.01313993, -0.01314385, ..., -0.02408776,\n",
       "        -0.02185885, -0.01791646], dtype=float32),\n",
       " array([-0.0128127 , -0.01008504, -0.01047143, ..., -0.00466011,\n",
       "        -0.0078342 , -0.0032389 ], dtype=float32),\n",
       " array([ 0.00030933, -0.00124392, -0.01063262, ...,  0.        ,\n",
       "         0.        ,  0.        ])]"
      ]
     },
     "execution_count": 109,
     "metadata": {},
     "output_type": "execute_result"
    }
   ],
   "source": [
    "sig_splits"
   ]
  },
  {
   "cell_type": "code",
   "execution_count": null,
   "metadata": {},
   "outputs": [],
   "source": []
  },
  {
   "cell_type": "code",
   "execution_count": null,
   "metadata": {},
   "outputs": [],
   "source": []
  },
  {
   "cell_type": "code",
   "execution_count": null,
   "metadata": {},
   "outputs": [],
   "source": []
  },
  {
   "cell_type": "code",
   "execution_count": null,
   "metadata": {},
   "outputs": [],
   "source": []
  },
  {
   "cell_type": "code",
   "execution_count": null,
   "metadata": {},
   "outputs": [],
   "source": []
  },
  {
   "cell_type": "code",
   "execution_count": null,
   "metadata": {},
   "outputs": [],
   "source": []
  },
  {
   "cell_type": "code",
   "execution_count": null,
   "metadata": {},
   "outputs": [],
   "source": []
  },
  {
   "cell_type": "code",
   "execution_count": null,
   "metadata": {},
   "outputs": [],
   "source": []
  },
  {
   "cell_type": "code",
   "execution_count": null,
   "metadata": {},
   "outputs": [],
   "source": []
  },
  {
   "cell_type": "code",
   "execution_count": null,
   "metadata": {},
   "outputs": [],
   "source": []
  },
  {
   "cell_type": "code",
   "execution_count": null,
   "metadata": {},
   "outputs": [],
   "source": []
  },
  {
   "cell_type": "code",
   "execution_count": null,
   "metadata": {},
   "outputs": [],
   "source": [
    "namesound00 = path_name_list[0][0].split('/')"
   ]
  },
  {
   "cell_type": "code",
   "execution_count": null,
   "metadata": {},
   "outputs": [],
   "source": [
    "plt.figure()\n",
    "plt.subplot(3, 1, 1)\n",
    "librosa.display.waveplot(sig_splits[0])\n",
    "plt.title(namesound00[-2]+' '+namesound00[-1] + ' Section 0')\n",
    "\n",
    "\n",
    "plt.subplot(3,1,2)\n",
    "#y, sr = librosa.load(path_name_list[0][1])\n",
    "librosa.display.waveplot(sig_splits[4])\n",
    "plt.title(namesound00[-2]+' '+namesound00[-1] + ' Section 4')\n",
    "\n",
    "plt.subplot(3, 1, 3)\n",
    "librosa.display.waveplot(sig_splits[6])\n",
    "plt.title(namesound00[-2]+' '+namesound00[-1] + ' Section 6')\n",
    "\n",
    "plt.tight_layout()"
   ]
  },
  {
   "cell_type": "code",
   "execution_count": 39,
   "metadata": {},
   "outputs": [
    {
     "ename": "NameError",
     "evalue": "name 'get_spec' is not defined",
     "output_type": "error",
     "traceback": [
      "\u001b[0;31m---------------------------------------------------------------------------\u001b[0m",
      "\u001b[0;31mNameError\u001b[0m                                 Traceback (most recent call last)",
      "\u001b[0;32m<ipython-input-39-51008f6f408d>\u001b[0m in \u001b[0;36m<module>\u001b[0;34m\u001b[0m\n\u001b[1;32m      1\u001b[0m \u001b[0;32mfor\u001b[0m \u001b[0msig\u001b[0m \u001b[0;32min\u001b[0m \u001b[0msig_splits\u001b[0m\u001b[0;34m:\u001b[0m\u001b[0;34m\u001b[0m\u001b[0;34m\u001b[0m\u001b[0m\n\u001b[0;32m----> 2\u001b[0;31m     \u001b[0mspec\u001b[0m \u001b[0;34m=\u001b[0m \u001b[0mget_spec\u001b[0m\u001b[0;34m(\u001b[0m\u001b[0msig\u001b[0m\u001b[0;34m,\u001b[0m \u001b[0mrate\u001b[0m\u001b[0;34m,\u001b[0m \u001b[0;34m(\u001b[0m\u001b[0;36m128\u001b[0m\u001b[0;34m,\u001b[0m \u001b[0;36m256\u001b[0m\u001b[0;34m)\u001b[0m\u001b[0;34m)\u001b[0m\u001b[0;34m\u001b[0m\u001b[0;34m\u001b[0m\u001b[0m\n\u001b[0m",
      "\u001b[0;31mNameError\u001b[0m: name 'get_spec' is not defined"
     ]
    }
   ],
   "source": [
    "for sig in sig_splits:\n",
    "    spec = get_spec(sig, rate, (128, 256))"
   ]
  },
  {
   "cell_type": "code",
   "execution_count": null,
   "metadata": {},
   "outputs": [],
   "source": [
    "def stft(sig, rate, shape=(128, 256), fmin=500, fmax=15000, normalize=True):\n",
    "\n",
    "    # shape = (height, width) in pixels\n",
    "\n",
    "    # STFT-Spec parameters\n",
    "    N_FFT = int((rate * shape[0] * 2) / abs(fmax - fmin)) + 1\n",
    "    P_MIN = int(float(N_FFT / 2) / rate * fmin) + 1\n",
    "    P_MAX = int(float(N_FFT / 2) / rate * fmax) + 1    \n",
    "    HOP_LEN = len(sig) // (shape[1] - 1)\n",
    "\n",
    "    # Librosa stft-spectrum\n",
    "    spec = librosa.core.stft(sig, hop_length=HOP_LEN, n_fft=N_FFT, window='hamm')\n",
    "\n",
    "    # Convert power spec to dB scale (compute dB relative to peak power)\n",
    "    spec = librosa.amplitude_to_db(librosa.core.magphase(spec)[0], ref=np.max, top_db=80)\n",
    "\n",
    "    # Trim to desired shape using cutoff frequencies\n",
    "    spec = spec[P_MIN:P_MAX, :shape[1]]\n",
    "\n",
    "    # Flip spectrum vertically (only for better visialization, low freq. at bottom)\n",
    "    spec = spec[::-1, ...]    \n",
    "\n",
    "    # Normalize values between 0 and 1\n",
    "    if normalize:\n",
    "        spec -= spec.min()\n",
    "        if not spec.max() == 0:\n",
    "            spec /= spec.max()\n",
    "        else:\n",
    "            spec = np.clip(spec, 0, 1)    \n",
    "    \n",
    "    return spec.astype('float32')"
   ]
  },
  {
   "cell_type": "code",
   "execution_count": null,
   "metadata": {},
   "outputs": [],
   "source": [
    "def get_spec(sig, rate, shape, spec_type='linear', **kwargs):\n",
    "\n",
    "    if spec_type.lower()== 'melspec':\n",
    "        return melspec(sig, rate, shape, **kwargs)\n",
    "    else:\n",
    "        return stft(sig, rate, shape, **kwargs)"
   ]
  },
  {
   "cell_type": "raw",
   "metadata": {},
   "source": [
    "for i in range(len(path_name_list)):\n",
    "    "
   ]
  },
  {
   "cell_type": "code",
   "execution_count": null,
   "metadata": {},
   "outputs": [],
   "source": []
  },
  {
   "cell_type": "code",
   "execution_count": null,
   "metadata": {},
   "outputs": [],
   "source": [
    "spec"
   ]
  },
  {
   "cell_type": "code",
   "execution_count": null,
   "metadata": {},
   "outputs": [],
   "source": []
  },
  {
   "cell_type": "code",
   "execution_count": null,
   "metadata": {},
   "outputs": [],
   "source": []
  },
  {
   "cell_type": "code",
   "execution_count": null,
   "metadata": {},
   "outputs": [],
   "source": []
  },
  {
   "cell_type": "code",
   "execution_count": null,
   "metadata": {},
   "outputs": [],
   "source": []
  },
  {
   "cell_type": "code",
   "execution_count": null,
   "metadata": {},
   "outputs": [],
   "source": []
  },
  {
   "cell_type": "code",
   "execution_count": null,
   "metadata": {},
   "outputs": [],
   "source": []
  }
 ],
 "metadata": {
  "kernelspec": {
   "display_name": "Python 3",
   "language": "python",
   "name": "python3"
  },
  "language_info": {
   "codemirror_mode": {
    "name": "ipython",
    "version": 3
   },
   "file_extension": ".py",
   "mimetype": "text/x-python",
   "name": "python",
   "nbconvert_exporter": "python",
   "pygments_lexer": "ipython3",
   "version": "3.7.3"
  }
 },
 "nbformat": 4,
 "nbformat_minor": 2
}
