{
 "cells": [
  {
   "cell_type": "code",
   "execution_count": 43,
   "metadata": {},
   "outputs": [],
   "source": [
    "from pydub import AudioSegment\n",
    "import os\n",
    "from tqdm import tqdm"
   ]
  },
  {
   "cell_type": "code",
   "execution_count": 15,
   "metadata": {},
   "outputs": [],
   "source": [
    "filesPath = []\n",
    "for root, dirs, files in os.walk('BirdCLEF2020_Validation_Audio_and_Ground_Truth/audio/'):\n",
    "    if root == 'BirdCLEF2020_Validation_Audio_and_Ground_Truth/audio/':\n",
    "        filesPath = files\n",
    "filesPathlist = []\n",
    "for i in range(len(filesPath)):\n",
    "    filesPathlist.append('BirdCLEF2020_Validation_Audio_and_Ground_Truth/audio/'+filesPath[i])"
   ]
  },
  {
   "cell_type": "code",
   "execution_count": 19,
   "metadata": {},
   "outputs": [
    {
     "data": {
      "text/plain": [
       "['PER49_20190131.wav',\n",
       " 'PER54_20190116.wav',\n",
       " 'PER53_20190116.wav',\n",
       " 'SSW51_20170819.wav',\n",
       " 'SSW50_20170819.wav',\n",
       " 'PER52_20190116.wav',\n",
       " 'SSW52_20170429.wav',\n",
       " 'SSW54_20170610.wav',\n",
       " 'PER50_20190116.wav',\n",
       " 'SSW49_20170520.wav',\n",
       " 'PER51_20190116.wav',\n",
       " 'SSW53_20170513.wav']"
      ]
     },
     "execution_count": 19,
     "metadata": {},
     "output_type": "execute_result"
    }
   ],
   "source": [
    "filesPath"
   ]
  },
  {
   "cell_type": "code",
   "execution_count": 21,
   "metadata": {},
   "outputs": [],
   "source": [
    "name = []\n",
    "for i in filesPath:\n",
    "    name.append(i[:5])"
   ]
  },
  {
   "cell_type": "code",
   "execution_count": 22,
   "metadata": {},
   "outputs": [
    {
     "data": {
      "text/plain": [
       "['PER49',\n",
       " 'PER54',\n",
       " 'PER53',\n",
       " 'SSW51',\n",
       " 'SSW50',\n",
       " 'PER52',\n",
       " 'SSW52',\n",
       " 'SSW54',\n",
       " 'PER50',\n",
       " 'SSW49',\n",
       " 'PER51',\n",
       " 'SSW53']"
      ]
     },
     "execution_count": 22,
     "metadata": {},
     "output_type": "execute_result"
    }
   ],
   "source": [
    "name"
   ]
  },
  {
   "cell_type": "code",
   "execution_count": 17,
   "metadata": {},
   "outputs": [
    {
     "data": {
      "text/plain": [
       "['BirdCLEF2020_Validation_Audio_and_Ground_Truth/audio/PER49_20190131.wav',\n",
       " 'BirdCLEF2020_Validation_Audio_and_Ground_Truth/audio/PER54_20190116.wav',\n",
       " 'BirdCLEF2020_Validation_Audio_and_Ground_Truth/audio/PER53_20190116.wav',\n",
       " 'BirdCLEF2020_Validation_Audio_and_Ground_Truth/audio/SSW51_20170819.wav',\n",
       " 'BirdCLEF2020_Validation_Audio_and_Ground_Truth/audio/SSW50_20170819.wav',\n",
       " 'BirdCLEF2020_Validation_Audio_and_Ground_Truth/audio/PER52_20190116.wav',\n",
       " 'BirdCLEF2020_Validation_Audio_and_Ground_Truth/audio/SSW52_20170429.wav',\n",
       " 'BirdCLEF2020_Validation_Audio_and_Ground_Truth/audio/SSW54_20170610.wav',\n",
       " 'BirdCLEF2020_Validation_Audio_and_Ground_Truth/audio/PER50_20190116.wav',\n",
       " 'BirdCLEF2020_Validation_Audio_and_Ground_Truth/audio/SSW49_20170520.wav',\n",
       " 'BirdCLEF2020_Validation_Audio_and_Ground_Truth/audio/PER51_20190116.wav',\n",
       " 'BirdCLEF2020_Validation_Audio_and_Ground_Truth/audio/SSW53_20170513.wav']"
      ]
     },
     "execution_count": 17,
     "metadata": {},
     "output_type": "execute_result"
    }
   ],
   "source": [
    "filesPathlist"
   ]
  },
  {
   "cell_type": "code",
   "execution_count": 51,
   "metadata": {},
   "outputs": [],
   "source": [
    "def splitt(files_path, name):\n",
    "\n",
    "    startMin = 0\n",
    "    startSec = 0\n",
    "\n",
    "    endMin = 0\n",
    "    endSec = 5\n",
    "\n",
    "    for i in range(120):\n",
    "        startTime = startMin*60*1000+startSec*1000\n",
    "        endTime = endMin*60*1000+endSec*1000\n",
    "\n",
    "        song = AudioSegment.from_wav(files_path)\n",
    "        extract = song[startTime:endTime]\n",
    "\n",
    "        extract.export(f'audio_split/{name}/'+ name + f'_00:{startMin}:{startSec}' + '-' + \n",
    "                       f'00:{endMin}:{endSec}' + '.wav', format=\"wav\")\n",
    "        startSec += 5\n",
    "        if startSec >= 60:\n",
    "            startMin += 1\n",
    "            startSec = startSec % 60\n",
    "        endSec += 5\n",
    "        if endSec >= 60:\n",
    "            endMin += 1\n",
    "            endSec = endSec % 60"
   ]
  },
  {
   "cell_type": "raw",
   "metadata": {},
   "source": [
    "make directory"
   ]
  },
  {
   "cell_type": "code",
   "execution_count": 42,
   "metadata": {},
   "outputs": [],
   "source": [
    "for i in range(len(name)):\n",
    "    if os.path.exists('audio_split/'+ name[i]):\n",
    "        pass\n",
    "    else:\n",
    "        path = os.path.join('audio_split', name[i])\n",
    "        os.mkdir(path)"
   ]
  },
  {
   "cell_type": "code",
   "execution_count": 52,
   "metadata": {},
   "outputs": [
    {
     "name": "stderr",
     "output_type": "stream",
     "text": [
      "\n",
      "\n",
      "  0%|          | 0/12 [00:00<?, ?it/s]\u001b[A\u001b[A\n",
      "\n",
      "  8%|▊         | 1/12 [01:32<16:59, 92.68s/it]\u001b[A\u001b[A\n",
      "\n",
      " 17%|█▋        | 2/12 [02:52<14:48, 88.88s/it]\u001b[A\u001b[A\n",
      "\n",
      " 25%|██▌       | 3/12 [04:10<12:50, 85.61s/it]\u001b[A\u001b[A\n",
      "\n",
      " 33%|███▎      | 4/12 [05:57<12:15, 91.97s/it]\u001b[A\u001b[A\n",
      "\n",
      " 42%|████▏     | 5/12 [07:42<11:11, 95.95s/it]\u001b[A\u001b[A\n",
      "\n",
      " 50%|█████     | 6/12 [09:04<09:10, 91.76s/it]\u001b[A\u001b[A\n",
      "\n",
      " 58%|█████▊    | 7/12 [10:26<07:23, 88.73s/it]\u001b[A\u001b[A\n",
      "\n",
      " 67%|██████▋   | 8/12 [11:46<05:44, 86.02s/it]\u001b[A\u001b[A\n",
      "\n",
      " 75%|███████▌  | 9/12 [13:15<04:21, 87.04s/it]\u001b[A\u001b[A\n",
      "\n",
      " 83%|████████▎ | 10/12 [14:58<03:03, 91.97s/it]\u001b[A\u001b[A\n",
      "\n",
      " 92%|█████████▏| 11/12 [16:33<01:32, 92.75s/it]\u001b[A\u001b[A\n",
      "\n",
      "100%|██████████| 12/12 [17:49<00:00, 87.84s/it]\u001b[A\u001b[A"
     ]
    }
   ],
   "source": [
    "for i in tqdm(range(len(name))):\n",
    "    splitt(filesPathlist[i], name[i])"
   ]
  },
  {
   "cell_type": "code",
   "execution_count": null,
   "metadata": {},
   "outputs": [],
   "source": []
  },
  {
   "cell_type": "code",
   "execution_count": null,
   "metadata": {},
   "outputs": [],
   "source": []
  }
 ],
 "metadata": {
  "kernelspec": {
   "display_name": "Python 3",
   "language": "python",
   "name": "python3"
  },
  "language_info": {
   "codemirror_mode": {
    "name": "ipython",
    "version": 3
   },
   "file_extension": ".py",
   "mimetype": "text/x-python",
   "name": "python",
   "nbconvert_exporter": "python",
   "pygments_lexer": "ipython3",
   "version": "3.7.3"
  }
 },
 "nbformat": 4,
 "nbformat_minor": 2
}
