{
 "cells": [
  {
   "cell_type": "code",
   "execution_count": null,
   "metadata": {},
   "outputs": [],
   "source": [
    "%reload_ext autoreload\n",
    "%autoreload 2\n",
    "%matplotlib inline"
   ]
  },
  {
   "cell_type": "code",
   "execution_count": null,
   "metadata": {},
   "outputs": [],
   "source": [
    "# Image Generation from Audio\n",
    "from pathlib import Path\n",
    "from IPython.display import Audio\n",
    "import librosa\n",
    "import librosa.display\n",
    "import matplotlib.pyplot as plt\n",
    "import numpy as np\n",
    "from utils import read_file, transform_path\n",
    "\n",
    "import time"
   ]
  },
  {
   "cell_type": "code",
   "execution_count": null,
   "metadata": {},
   "outputs": [],
   "source": [
    "DATA = Path('D:/Experiments/data')\n",
    "\n",
    "# these folder must be in place\n",
    "NSYNTH_AUDIO = DATA/'nsynth_audio'\n",
    "TRAIN_AUDIO_PATH = NSYNTH_AUDIO/'train/audio'\n",
    "VALID_AUDIO_PATH = NSYNTH_AUDIO/'valid/audio'\n",
    "\n",
    "# these folders will be created\n",
    "NSYNTH_IMAGES = DATA/'nsynth_images'\n",
    "TRAIN_IMAGE_PATH = NSYNTH_IMAGES/'train'\n",
    "VALID_IMAGE_PATH = NSYNTH_IMAGES/'valid'"
   ]
  },
  {
   "cell_type": "code",
   "execution_count": null,
   "metadata": {},
   "outputs": [],
   "source": [
    "train_acoustic_fnames = [f.name for f in TRAIN_AUDIO_PATH.iterdir()\n",
    "                         if 'acoustic' in f.name]\n",
    "valid_acoustic_fnames = [f.name for f in VALID_AUDIO_PATH.iterdir()\n",
    "                         if 'acoustic' in f.name]\n",
    "len(train_acoustic_fnames), len(valid_acoustic_fnames)"
   ]
  },
  {
   "cell_type": "code",
   "execution_count": null,
   "metadata": {},
   "outputs": [],
   "source": [
    "fn = train_acoustic_fnames[8]; fn"
   ]
  },
  {
   "cell_type": "code",
   "execution_count": null,
   "metadata": {
    "scrolled": true
   },
   "outputs": [],
   "source": [
    "Audio(str(TRAIN_AUDIO_PATH/fn))"
   ]
  },
  {
   "cell_type": "code",
   "execution_count": null,
   "metadata": {},
   "outputs": [],
   "source": [
    "x, sr = read_file(fn, TRAIN_AUDIO_PATH)\n",
    "x.shape, sr, x.dtype"
   ]
  },
  {
   "cell_type": "code",
   "execution_count": null,
   "metadata": {},
   "outputs": [],
   "source": [
    "def log_mel_spec_tfm(fname, src_path, dst_path):\n",
    "    x, sample_rate = read_file(fname, src_path)\n",
    "    \n",
    "    n_fft = 1024\n",
    "    hop_length = 256\n",
    "    n_mels = 40\n",
    "    fmin = 20\n",
    "    fmax = sample_rate / 2 \n",
    "    \n",
    "    mel_spec_power = librosa.feature.melspectrogram(x, sr=sample_rate, n_fft=n_fft, \n",
    "                                                    hop_length=hop_length, \n",
    "                                                    n_mels=n_mels, power=2.0, \n",
    "                                                    fmin=fmin, fmax=fmax)\n",
    "    mel_spec_db = librosa.power_to_db(mel_spec_power, ref=np.max)\n",
    "    dst_fname = dst_path / (fname[:-4] + '.png')\n",
    "    plt.imsave(dst_fname, mel_spec_db)"
   ]
  },
  {
   "cell_type": "code",
   "execution_count": null,
   "metadata": {
    "scrolled": true
   },
   "outputs": [],
   "source": [
    "log_mel_spec_tfm(fn, TRAIN_AUDIO_PATH, Path('.'))\n",
    "img = plt.imread(fn[:-4] + '.png')\n",
    "plt.imshow(img, origin='lower');"
   ]
  },
  {
   "cell_type": "code",
   "execution_count": null,
   "metadata": {},
   "outputs": [],
   "source": [
    "start = time.time()\n",
    "print(\"hello\")\n",
    "end = time.time()\n",
    "print(end - start)"
   ]
  },
  {
   "cell_type": "code",
   "execution_count": null,
   "metadata": {},
   "outputs": [],
   "source": [
    "# Train files\n",
    "start = time.time()\n",
    "print(\"Training image generating start\")\n",
    "transform_path(TRAIN_AUDIO_PATH, \n",
    "               TRAIN_IMAGE_PATH, \n",
    "               log_mel_spec_tfm, \n",
    "               fnames=train_acoustic_fnames, \n",
    "               delete=True)\n",
    "end = time.time()\n",
    "print('finished ! and this took', end - start)"
   ]
  },
  {
   "cell_type": "code",
   "execution_count": null,
   "metadata": {},
   "outputs": [],
   "source": [
    "# Valid files\n",
    "start = time.time()\n",
    "print(\"Validation image generating start\")\n",
    "transform_path(VALID_AUDIO_PATH, \n",
    "               VALID_IMAGE_PATH, \n",
    "               log_mel_spec_tfm, \n",
    "               fnames=valid_acoustic_fnames, \n",
    "               delete=True)\n",
    "end = time.time()\n",
    "print('finished ! and this took', end - start)"
   ]
  },
  {
   "cell_type": "code",
   "execution_count": null,
   "metadata": {},
   "outputs": [],
   "source": []
  }
 ],
 "metadata": {
  "kernelspec": {
   "display_name": "Python 3",
   "language": "python",
   "name": "python3"
  },
  "language_info": {
   "codemirror_mode": {
    "name": "ipython",
    "version": 3
   },
   "file_extension": ".py",
   "mimetype": "text/x-python",
   "name": "python",
   "nbconvert_exporter": "python",
   "pygments_lexer": "ipython3",
   "version": "3.7.6"
  }
 },
 "nbformat": 4,
 "nbformat_minor": 4
}
