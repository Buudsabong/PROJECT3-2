{
 "cells": [
  {
   "cell_type": "code",
   "execution_count": 1,
   "metadata": {},
   "outputs": [],
   "source": [
    "from pydub import AudioSegment"
   ]
  },
  {
   "cell_type": "code",
   "execution_count": 3,
   "metadata": {},
   "outputs": [],
   "source": [
    "files_path = 'audio/'\n",
    "file_name = 'PER49_20190131'\n",
    "\n",
    "startMin = 0\n",
    "startSec = 0\n",
    "\n",
    "endMin = 0\n",
    "endSec = 5\n",
    "\n",
    "for i in range(120):\n",
    "    startTime = startMin*60*1000+startSec*1000\n",
    "    endTime = endMin*60*1000+endSec*1000\n",
    "\n",
    "    song = AudioSegment.from_wav(files_path+file_name+'.wav')\n",
    "    extract = song[startTime:endTime]\n",
    "\n",
    "    extract.export('audio_split/PER49_20190131/'+ file_name + str(startMin) + '_' + str(startSec)+ '-' + str(endMin) + '_' + \n",
    "                   str(endSec) + '.wav', format=\"wav\")\n",
    "    startSec += 5\n",
    "    if startSec >= 60:\n",
    "        startMin += 1\n",
    "        startSec = startSec % 60\n",
    "    endSec += 5\n",
    "    if endSec >= 60:\n",
    "        endMin += 1\n",
    "        endSec = endSec % 60"
   ]
  },
  {
   "cell_type": "code",
   "execution_count": null,
   "metadata": {},
   "outputs": [],
   "source": []
  }
 ],
 "metadata": {
  "kernelspec": {
   "display_name": "Python 3",
   "language": "python",
   "name": "python3"
  },
  "language_info": {
   "codemirror_mode": {
    "name": "ipython",
    "version": 3
   },
   "file_extension": ".py",
   "mimetype": "text/x-python",
   "name": "python",
   "nbconvert_exporter": "python",
   "pygments_lexer": "ipython3",
   "version": "3.7.6"
  }
 },
 "nbformat": 4,
 "nbformat_minor": 2
}
