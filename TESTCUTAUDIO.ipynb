{
 "cells": [
  {
   "cell_type": "code",
   "execution_count": 1,
   "metadata": {},
   "outputs": [],
   "source": [
    "from pydub import AudioSegment\n",
    "from ffprobe import FFProbe"
   ]
  },
  {
   "cell_type": "code",
   "execution_count": 2,
   "metadata": {},
   "outputs": [],
   "source": [
    "filespath = 'audio/'"
   ]
  },
  {
   "cell_type": "code",
   "execution_count": 3,
   "metadata": {},
   "outputs": [],
   "source": [
    "files_name = 'PER49_20190131'"
   ]
  },
  {
   "cell_type": "code",
   "execution_count": 4,
   "metadata": {},
   "outputs": [],
   "source": [
    "StartMin = 0\n",
    "StartSec = 0\n",
    "EndMin = 0\n",
    "EndSec = 5\n",
    "for i in range(120): #วนลูป 120 รอบเพราะว่าไฟล์มีเวลา 10 นาทีต้องการ split เสียงออกทุกๆ 5 วินาที\n",
    "    StartTime = StartMin*60*1000+StartSec*1000\n",
    "    EndTime = EndMin*60*1000+EndSec*1000\n",
    "    \n",
    "    song = AudioSegment.from_wav(filespath+files_name + '.wav')\n",
    "    extract = song[StartTime:EndTime]\n",
    "\n",
    "    extract.export('audio_split/PER49_20190131/'+ files_name + '-' + str(StartMin) + '_' + str(StartSec) + '_' + \n",
    "                   str(EndMin) + '_' + str(EndSec) + '.wav', format=\"wav\")\n",
    "    StartSec += 5\n",
    "    if StartSec >= 60:\n",
    "        StartMin += 1\n",
    "        StartSec = StartSec % 60\n",
    "\n",
    "    EndSec += 5\n",
    "    if EndSec >= 60:\n",
    "        EndMin += 1\n",
    "        EndSec = EndSec % 60"
   ]
  },
  {
   "cell_type": "code",
   "execution_count": null,
   "metadata": {},
   "outputs": [],
   "source": []
  },
  {
   "cell_type": "code",
   "execution_count": null,
   "metadata": {},
   "outputs": [],
   "source": []
  }
 ],
 "metadata": {
  "kernelspec": {
   "display_name": "Python 3",
   "language": "python",
   "name": "python3"
  },
  "language_info": {
   "codemirror_mode": {
    "name": "ipython",
    "version": 3
   },
   "file_extension": ".py",
   "mimetype": "text/x-python",
   "name": "python",
   "nbconvert_exporter": "python",
   "pygments_lexer": "ipython3",
   "version": "3.7.3"
  }
 },
 "nbformat": 4,
 "nbformat_minor": 2
}
